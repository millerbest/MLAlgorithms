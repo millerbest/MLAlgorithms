{
 "cells": [
  {
   "cell_type": "markdown",
   "metadata": {},
   "source": [
    "Linear Regression algorithm from scratch on single feature and our equation will be of type \n",
    "\n",
    "        y=a0 + a1*x            here X is row vector of features of size 100*1 \n",
    "                               y is row vector of output of size of 100*1\n",
    "                               \n",
    "                               \n",
    "       1. we have to guess m and b\n",
    "       2. calculate cost function which we have to minimise \n",
    "               we will use least square method \n",
    "       3. we will optimise cost function using gradient descent\n",
    "       "
   ]
  },
  {
   "cell_type": "code",
   "execution_count": 28,
   "metadata": {},
   "outputs": [],
   "source": [
    "import numpy as np\n",
    "import matplotlib.pyplot as plt\n",
    "%matplotlib inline"
   ]
  },
  {
   "cell_type": "code",
   "execution_count": 4,
   "metadata": {},
   "outputs": [],
   "source": [
    "data = np.genfromtxt(\"data.csv\",delimiter=\",\")"
   ]
  },
  {
   "cell_type": "code",
   "execution_count": 144,
   "metadata": {},
   "outputs": [],
   "source": [
    "y=data[:,1]  #actual values of y of size 100*1\n"
   ]
  },
  {
   "cell_type": "code",
   "execution_count": 143,
   "metadata": {},
   "outputs": [],
   "source": [
    "X=data[:,0] #input features of size 100*1"
   ]
  },
  {
   "cell_type": "markdown",
   "metadata": {},
   "source": [
    "We will make a function for linear regression"
   ]
  },
  {
   "cell_type": "markdown",
   "metadata": {},
   "source": [
    "Plotting the values of x and y on a graph "
   ]
  },
  {
   "cell_type": "code",
   "execution_count": 41,
   "metadata": {},
   "outputs": [
    {
     "data": {
      "image/png": "[encoded data removed]",
      "text/plain": [
       "<matplotlib.figure.Figure at 0x263f78ef4a8>"
      ]
     },
     "metadata": {},
     "output_type": "display_data"
    }
   ],
   "source": [
    "plt.plot(X,y,'o')\n",
    "plt.xlabel('X')\n",
    "plt.ylabel('y')\n",
    "plt.show()"
   ]
  },
  {
   "cell_type": "markdown",
   "metadata": {},
   "source": [
    "Gradient descent funtion\n",
    "formula for \n",
    "    gradient descent = sum(h-y)/num_of_training_examples\n",
    "\n"
   ]
  },
  {
   "cell_type": "code",
   "execution_count": 169,
   "metadata": {},
   "outputs": [],
   "source": [
    "def gradient_descent(learning_rate,current_a0,current_a1,y,X):\n",
    "    gradient_a0=0\n",
    "    gradient_a1=0\n",
    "    m = float(len(y))\n",
    "    for i in range(len(y)):\n",
    "        gradient_a0 = gradient_a0 + ((current_a0 + X[i]*current_a1)-y[i])\n",
    "        gradient_a1 = gradient_a1 + ((current_a0 + X[i]*current_a1)-y[i])*X[i]\n",
    "    \n",
    "    #Now we update the values of the a0 and  a1\n",
    "    \n",
    "    new_a0 = current_a0 - (learning_rate*gradient_a0)/m\n",
    "    new_a1 = current_a1 - (learning_rate*gradient_a1)/m\n",
    "    \n",
    "    return [new_a0,new_a1]"
   ]
  },
  {
   "cell_type": "code",
   "execution_count": 170,
   "metadata": {},
   "outputs": [],
   "source": [
    "def costFunction(a0,a1,X,y):\n",
    "    J=0\n",
    "    m = len(y) #no of training examples\n",
    "    for i in range(m):\n",
    "        error = ((a0 + a1*X[i])-y[i])**2   #our cost function or error in our hypothesis\n",
    "        J = J + error\n",
    "    J = J/float((2*m))\n",
    "    return J"
   ]
  },
  {
   "cell_type": "code",
   "execution_count": 174,
   "metadata": {},
   "outputs": [],
   "source": [
    "\n",
    "learning_rate = 0.0001  #learning rate for the finding the optimal values of a0 and a1\n",
    "num_epochs = 1000  #number of iterations \n",
    "\n",
    "\n",
    "def linearRegression(X,y,a0,a1):\n",
    "    for i in range(num_epochs):\n",
    "        a0,a1 = gradient_descent(learning_rate,a0,a1,y,X)\n",
    "        error = costFunction(a0,a1,X,y)\n",
    "    return a0,a1,error"
   ]
  },
  {
   "cell_type": "code",
   "execution_count": 178,
   "metadata": {},
   "outputs": [
    {
     "name": "stdout",
     "output_type": "stream",
     "text": [
      "initial values before running regression a0=0,a1=0,error=2782.5539172416056\n",
      "Tuning the parameter....\n",
      "a0=0.05905855664216082,a1=1.4783313274545458,error=56.316335393554716\n"
     ]
    }
   ],
   "source": [
    "a0=0\n",
    "a1=0\n",
    "print(\"initial values before running regression a0={0},a1={1},error={2}\".format(a0,a1,costFunction(a0,a1,X,y)))\n",
    "print(\"Tuning the parameter....\")\n",
    "a0,a1,error = linearRegression(X,y,a0,a1)\n",
    "print(\"a0={0},a1={1},error={2}\".format(a0,a1,error))"
   ]
  },
  {
   "cell_type": "markdown",
   "metadata": {},
   "source": [
    "initial values before running regression a0=0,a1=0,error=2782.5539172416056\n",
    "Tuning the parameter....\n",
    "a0=0.05905855664216082,a1=1.4783313274545458,error=56.316335393554716"
   ]
  },
  {
   "cell_type": "markdown",
   "metadata": {},
   "source": [
    "# Now we will plot the graph with datapoints and the best fitted line using matplotlib"
   ]
  },
  {
   "cell_type": "code",
   "execution_count": 183,
   "metadata": {},
   "outputs": [
    {
     "data": {
      "image/png": "[encoded data removed]",
      "text/plain": [
       "<matplotlib.figure.Figure at 0x263f78a1a20>"
      ]
     },
     "metadata": {},
     "output_type": "display_data"
    }
   ],
   "source": [
    "from matplotlib import style\n",
    "style.use('fivethirtyeight')\n",
    "\n",
    "regression_line = [a0+(a1*x) for x in X]\n",
    "\n",
    "plt.scatter(X,y)\n",
    "plt.plot(X,regression_line)\n",
    "plt.show()"
   ]
  }
 ],
 "metadata": {
  "kernelspec": {
   "display_name": "Python 3",
   "language": "python",
   "name": "python3"
  },
  "language_info": {
   "codemirror_mode": {
    "name": "ipython",
    "version": 3
   },
   "file_extension": ".py",
   "mimetype": "text/x-python",
   "name": "python",
   "nbconvert_exporter": "python",
   "pygments_lexer": "ipython3",
   "version": "3.6.4"
  }
 },
 "nbformat": 4,
 "nbformat_minor": 2
}
